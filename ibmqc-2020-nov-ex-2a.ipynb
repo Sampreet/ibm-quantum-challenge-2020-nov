{
 "metadata": {
  "language_info": {
   "codemirror_mode": {
    "name": "ipython",
    "version": 3
   },
   "file_extension": ".py",
   "mimetype": "text/x-python",
   "name": "python",
   "nbconvert_exporter": "python",
   "pygments_lexer": "ipython3",
   "version": "3.8.6-final"
  },
  "orig_nbformat": 2,
  "kernelspec": {
   "name": "python38564bitqcompconda1967a92f42454fa79d5520638f9a1044",
   "display_name": "Python 3.8.5 64-bit ('qcomp': conda)"
  }
 },
 "nbformat": 4,
 "nbformat_minor": 2,
 "cells": [
  {
   "source": [
    "# IBM Quantum Challenge 2020 November - Exercise 2-a\n",
    "\n",
    "[Notebook containing the challenge exercise](https://github.com/qiskit-community/IBMQuantumChallenge2020/blob/main/exercises/week-2/ex_2a_en.ipynb)"
   ],
   "cell_type": "markdown",
   "metadata": {}
  },
  {
   "source": [
    "## Dependencies"
   ],
   "cell_type": "markdown",
   "metadata": {}
  },
  {
   "cell_type": "code",
   "execution_count": 1,
   "metadata": {},
   "outputs": [],
   "source": [
    "from qiskit import Aer, ClassicalRegister, execute, QuantumCircuit, QuantumRegister\n",
    "import numpy as np"
   ]
  },
  {
   "source": [
    "## The Mathematical Solution"
   ],
   "cell_type": "markdown",
   "metadata": {}
  },
  {
   "source": [
    "def comp_clauses(qc, q_s, q_l):\n",
    "    \"\"\"Function to implement the mathematical solution.\n",
    "\n",
    "    Parameters\n",
    "    ----------\n",
    "    qc : :class:`qiskit.QuantumCircuit`\n",
    "        Quantum Circuit.\n",
    "    q_s : list\n",
    "        Superposed qbits.\n",
    "    q_l : list\n",
    "        Light state qbits.\n",
    "    \"\"\"\n",
    "\n",
    "    # the neighbour matrix\n",
    "    A = [   [1, 1, 0, 1, 0, 0, 0, 0, 0],\n",
    "            [1, 1, 1, 0, 1, 0, 0, 0, 0],\n",
    "            [0, 1, 1, 0, 0, 1, 0, 0, 0],\n",
    "            [1, 0, 0, 1, 1, 0, 1, 0, 0],\n",
    "            [0, 1, 0, 1, 1, 1, 0, 1, 0],\n",
    "            [0, 0, 1, 0, 1, 1, 0, 0, 1],\n",
    "            [0, 0, 0, 1, 0, 0, 1, 1, 0],\n",
    "            [0, 0, 0, 0, 1, 0, 1, 1, 1],\n",
    "            [0, 0, 0, 0, 0, 1, 0, 1, 1] ]\n",
    "\n",
    "    # for each element in A\n",
    "    for i in range(9):\n",
    "        for j in range(9):\n",
    "            # apply CNOTs whereever an element is 1\n",
    "            if A[i][j] == 1:\n",
    "                qc.cx(q_s[i], q_l[j])"
   ],
   "cell_type": "code",
   "metadata": {},
   "execution_count": 2,
   "outputs": []
  },
  {
   "source": [
    "## The Oracle"
   ],
   "cell_type": "markdown",
   "metadata": {}
  },
  {
   "cell_type": "code",
   "execution_count": 3,
   "metadata": {},
   "outputs": [],
   "source": [
    "def comp_oracle(qc, q_s, q_l, q_a, q_f):\n",
    "    \"\"\"Function to implement the oracle.\n",
    "\n",
    "    Parameters\n",
    "    ----------\n",
    "    qc : :class:`qiskit.QuantumCircuit`\n",
    "        Quantum Circuit.\n",
    "    q_s : list\n",
    "        Superposed qbits.\n",
    "    q_l : list\n",
    "        Light state qbits.\n",
    "    q_a : list\n",
    "        Ancilla qbits.\n",
    "    q_f : int\n",
    "        Flag qbit.\n",
    "    \"\"\"\n",
    "\n",
    "    # compute clauses\n",
    "    comp_clauses(qc, q_s, q_l)\n",
    "\n",
    "    # flag the solutions\n",
    "    qc.mct(q_l, q_f, ancilla_qubits=q_a, mode='v-chain')\n",
    "\n",
    "    # uncompute clauses\n",
    "    comp_clauses(qc, q_s, q_l)"
   ]
  },
  {
   "source": [
    "## The Diffuser"
   ],
   "cell_type": "markdown",
   "metadata": {}
  },
  {
   "cell_type": "code",
   "execution_count": 4,
   "metadata": {},
   "outputs": [],
   "source": [
    "def get_diffuser_gate(num):   \n",
    "    \"\"\"Function to implement a general diffuser gate.\n",
    "\n",
    "    Parameters\n",
    "    ----------\n",
    "    num : int\n",
    "        Number of superposed states.\n",
    "\n",
    "    Returns\n",
    "    -------\n",
    "    D : :class:`qiskit.circuit.Gate`\n",
    "        Quantum gate representing the circuit.\n",
    "    \"\"\"\n",
    "\n",
    "    # num-bit register for the superposed qbits\n",
    "    q_s = QuantumRegister(num)\n",
    "    # (num - 2)-bit register for the ancilla qbits\n",
    "    q_a = QuantumRegister(num - 3)\n",
    "    # quantum circuit\n",
    "    qc = QuantumCircuit(q_s, q_a)\n",
    "\n",
    "    # apply H and X gates to all qbits\n",
    "    for i in range(num):\n",
    "        qc.h(i)\n",
    "        qc.x(i)\n",
    "\n",
    "    # implement controlled-Z gate\n",
    "    # apply H gate to the final qbit\n",
    "    qc.h(num - 1)\n",
    "    # flip the final bit\n",
    "    qc.mct(list(range(num - 1)), num - 1, ancilla_qubits=q_a, mode='v-chain')\n",
    "    # apply H gate to the final qbit\n",
    "    qc.h(num - 1)\n",
    "\n",
    "    # apply X and H gates to all qbits\n",
    "    for i in range(num):\n",
    "        qc.x(i)\n",
    "        qc.h(i)\n",
    "\n",
    "    # return circuit as gate\n",
    "    return qc.to_gate()"
   ]
  },
  {
   "source": [
    "## The Answer Function"
   ],
   "cell_type": "markdown",
   "metadata": {}
  },
  {
   "cell_type": "code",
   "execution_count": 5,
   "metadata": {},
   "outputs": [],
   "source": [
    "def week2a_ans_func(lights):\n",
    "    \"\"\"Function to return a quantum circuit to obtain the solution for a given sequence of light states.\n",
    "\n",
    "    Parameters\n",
    "    ----------\n",
    "    lights : list\n",
    "        Sequence of light states.\n",
    "\n",
    "    Returns\n",
    "    -------\n",
    "    qc : :class:`qiskit.QuantumCircuit`\n",
    "        Quantum circuit to obtain the solution.\n",
    "    \"\"\"\n",
    "\n",
    "    # register for superposed qbits\n",
    "    q_s = QuantumRegister(9, 'q_s')\n",
    "    # register for light state qbits\n",
    "    q_l = QuantumRegister(9, 'q_l')\n",
    "    # register for ancilla qbits\n",
    "    q_a = QuantumRegister(7, 'q_a')\n",
    "    # register for flag qbit\n",
    "    q_f = QuantumRegister(1, 'q_f')\n",
    "    # classical register to measure solution\n",
    "    c = ClassicalRegister(9, 'c')\n",
    "    # quantum circuit\n",
    "    qc = QuantumCircuit(q_s, q_l, q_a, q_f, c)\n",
    "\n",
    "    # initialize superposed qbits\n",
    "    for i in range(9):\n",
    "        qc.h(q_s[i])\n",
    "\n",
    "    # initialize light states complementary to given states\n",
    "    # such that the clauses return an odd sum for solution qbits\n",
    "    for i in range(9):\n",
    "        if lights[i] == 0:\n",
    "            qc.x(q_l[i])\n",
    "\n",
    "    # initialize the flag qbit\n",
    "    qc.x(q_f[0])\n",
    "    qc.h(q_f[0])\n",
    "\n",
    "    # oracle-diffuser loop\n",
    "    for i in range(1):\n",
    "        # compute oracle\n",
    "        comp_oracle(qc, q_s, q_l, q_a, q_f)\n",
    "        # compute diffuser for light states\n",
    "        qc.append(get_diffuser_gate(9), list(range(9)) + list(range(18, 24)))\n",
    "\n",
    "    # measure\n",
    "    qc.measure(q_s, c)\n",
    "\n",
    "    # return reversed bits for same endian\n",
    "    return qc.reverse_bits()"
   ]
  },
  {
   "source": [
    "## The Quantum Circuit"
   ],
   "cell_type": "markdown",
   "metadata": {}
  },
  {
   "cell_type": "code",
   "execution_count": 6,
   "metadata": {},
   "outputs": [],
   "source": [
    "# sample sequences and solutions\n",
    "Q = [   [[0, 1, 1, 1, 0, 0, 1, 1, 1], '110010101'],\n",
    "        [[1, 1, 0, 0, 1, 0, 0, 0, 0], '111100011'],\n",
    "        [[1, 1, 1, 1, 0, 0, 0, 1, 0], '110110011'],\n",
    "        [[0, 0, 1, 1, 1, 0, 0, 0, 1], '101100101'],\n",
    "        [[1, 1, 1, 1, 1, 1, 1, 1, 0], '110110000'],\n",
    "        [[0, 0, 0, 1, 0, 1, 1, 0, 1], '000000101']  ]\n",
    "\n",
    "# selected sequence of light states\n",
    "lights = Q[0][0]\n",
    "\n",
    "# get the quantum circuit\n",
    "qc = week2a_ans_func(lights)\n",
    "\n",
    "# # display\n",
    "# qc.draw(output='mpl')"
   ]
  },
  {
   "source": [
    "## Simulation"
   ],
   "cell_type": "markdown",
   "metadata": {}
  },
  {
   "cell_type": "code",
   "execution_count": 7,
   "metadata": {},
   "outputs": [
    {
     "output_type": "stream",
     "name": "stdout",
     "text": [
      "110010101: 133\n"
     ]
    }
   ],
   "source": [
    "# execute the quantum circuit on the backend\n",
    "backend = Aer.get_backend('qasm_simulator')\n",
    "job = execute(qc, backend, shots=8000)\n",
    "\n",
    "# obtain the maximum from the result\n",
    "result = job.result()\n",
    "counts = result.get_counts()\n",
    "max_key = max(counts, key=counts.get)\n",
    "print('{}: {}'.format(max_key, counts[max_key]))"
   ]
  },
  {
   "source": [
    "## Grading"
   ],
   "cell_type": "markdown",
   "metadata": {}
  },
  {
   "cell_type": "code",
   "execution_count": 8,
   "metadata": {},
   "outputs": [
    {
     "output_type": "stream",
     "name": "stdout",
     "text": [
      "Cost: 1786\n"
     ]
    }
   ],
   "source": [
    "# dependencies for calculating cost\n",
    "from qiskit.transpiler import PassManager\n",
    "from qiskit.transpiler.passes import Unroller\n",
    "\n",
    "# calculate cost\n",
    "ur = Unroller(['u3', 'cx'])\n",
    "pm = PassManager(ur)\n",
    "qc_cost = pm.run(qc) \n",
    "op_dict = qc_cost.count_ops()\n",
    "# given criteria to calculate cost\n",
    "print('Cost: {}'.format(op_dict['u3'] + op_dict['cx'] * 10))"
   ]
  }
 ]
}